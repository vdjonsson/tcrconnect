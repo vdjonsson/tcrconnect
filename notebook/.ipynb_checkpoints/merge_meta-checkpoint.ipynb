{
 "cells": [
  {
   "cell_type": "markdown",
   "metadata": {
    "toc": true
   },
   "source": [
    "<h1>Table of Contents<span class=\"tocSkip\"></span></h1>\n",
    "<div class=\"toc\"><ul class=\"toc-item\"></ul></div>"
   ]
  },
  {
   "cell_type": "code",
   "execution_count": 1,
   "metadata": {},
   "outputs": [],
   "source": [
    "import os\n",
    "import glob\n",
    "import pandas as pd"
   ]
  },
  {
   "cell_type": "code",
   "execution_count": 2,
   "metadata": {},
   "outputs": [],
   "source": [
    "import re\n",
    "def read_and_extract(\n",
    "    files, \n",
    "    pattern,\n",
    "    **kwargs\n",
    "    ):\n",
    "    \"\"\"\n",
    "    Parameters:\n",
    "        files: List of paths to dataframes to read\n",
    "        pattern: Regex pattern with group for extracting cluster id.\n",
    "            \"Kmeans(\\d+).csv\"\n",
    "            \"ShapeCluster(\\d+)\"\n",
    "        kwargs: Arguments passed to :func:`pandas.read_csv`\n",
    "    Returns:\n",
    "        Dictionary mapping cluster ID to its dataframe\n",
    "    \"\"\"\n",
    "    files.sort()\n",
    "    clusters = [re.findall(pattern,f)[0] for f in files]\n",
    "    cluster2df = {c:pd.read_csv(f, **kwargs) for c, f in zip(clusters, files)}\n",
    "    return cluster2df"
   ]
  },
  {
   "cell_type": "code",
   "execution_count": 16,
   "metadata": {},
   "outputs": [],
   "source": [
    "indir = '/Users/racng/git/paper_upn109/data/tcr/'\n",
    "outdir = '/Users/racng/git/connectTCR/output/timeseries/'"
   ]
  },
  {
   "cell_type": "code",
   "execution_count": 4,
   "metadata": {},
   "outputs": [],
   "source": [
    "comps = ['csf', 'pbmc']\n",
    "\n",
    "# read kmeans and shape clusters dataframes\n",
    "shape_files = {c: glob.glob(indir+\"{}ShapeCluster*.csv\".format(c.upper()))\n",
    "    for c in comps}\n",
    "shapes = {c:read_and_extract(shape_files[c], \"ShapeCluster(\\d+).csv\") \n",
    "    for c in comps}\n",
    "\n",
    "kmeans_files = {c: glob.glob(indir+\"{}/Signal{}Kmeans*.csv\".format(c, c.upper()))\n",
    "    for c in comps}\n",
    "kmeans = {c:read_and_extract(kmeans_files[c], \"Kmeans(\\d+).csv\") \n",
    "    for c in comps}"
   ]
  },
  {
   "cell_type": "code",
   "execution_count": 5,
   "metadata": {},
   "outputs": [],
   "source": [
    "trb2shape = {}\n",
    "for c in comps:\n",
    "    tcr_map = {}\n",
    "    for i, df in shapes[c].items():\n",
    "        for trb in df['TRB'].values:\n",
    "            if trb in tcr_map:\n",
    "                raise ValueError('TRB repeated')\n",
    "            tcr_map[trb] = i\n",
    "    trb2shape[c] = tcr_map"
   ]
  },
  {
   "cell_type": "code",
   "execution_count": 6,
   "metadata": {},
   "outputs": [],
   "source": [
    "trb2kmeans = {}\n",
    "for c in comps:\n",
    "    tcr_map = {}\n",
    "    for i, df in kmeans[c].items():\n",
    "        for trb in df['TRB'].values:\n",
    "            if trb in tcr_map:\n",
    "                raise ValueError('TRB repeated')\n",
    "            tcr_map[trb] = i.lstrip(\"0\") # remove leading zero\n",
    "    trb2kmeans[c] = tcr_map"
   ]
  },
  {
   "cell_type": "code",
   "execution_count": 7,
   "metadata": {},
   "outputs": [],
   "source": [
    "signal = {c:pd.read_csv(indir+'{}(Signal).csv'.format(c.upper()))['TRB'] for c in comps}"
   ]
  },
  {
   "cell_type": "code",
   "execution_count": 8,
   "metadata": {},
   "outputs": [],
   "source": [
    "noise = {c:pd.read_csv(indir+'{}(Noise).csv'.format(c.upper()))['TRB'] for c in comps}"
   ]
  },
  {
   "cell_type": "code",
   "execution_count": 17,
   "metadata": {},
   "outputs": [],
   "source": [
    "meta = {}\n",
    "savename = {'csf':'csf', 'pbmc':'pb'}\n",
    "for c in comps:\n",
    "    meta[c] = pd.DataFrame({\n",
    "        'TRB': signal[c].append(noise[c]).values,\n",
    "        'Signal/Noise': ['Signal']*len(signal[c])+['Noise']*len(noise[c])\n",
    "    })\n",
    "    meta[c]['Kmeans'] = meta[c]['TRB'].map(trb2kmeans[c])\n",
    "    meta[c]['Shape'] = meta[c]['TRB'].map(trb2shape[c])\n",
    "    meta[c].to_csv(outdir+'{}.meta.csv'.format(savename[c]),index=False)"
   ]
  },
  {
   "cell_type": "code",
   "execution_count": 10,
   "metadata": {},
   "outputs": [
    {
     "name": "stdout",
     "output_type": "stream",
     "text": [
      "19043\n",
      "1509\n",
      "1509\n",
      "1509\n",
      "1048575\n",
      "152\n",
      "152\n",
      "152\n"
     ]
    }
   ],
   "source": [
    "for i, df in meta.items():\n",
    "    print(len(df))\n",
    "    print(len(df.dropna()))\n",
    "    print(len(signal[i]))\n",
    "    print((df.dropna()['Signal/Noise']=='Signal').sum())"
   ]
  },
  {
   "cell_type": "code",
   "execution_count": 23,
   "metadata": {},
   "outputs": [
    {
     "ename": "KeyError",
     "evalue": "'pb'",
     "output_type": "error",
     "traceback": [
      "\u001b[0;31m---------------------------------------------------------------------------\u001b[0m",
      "\u001b[0;31mKeyError\u001b[0m                                  Traceback (most recent call last)",
      "\u001b[0;32m<ipython-input-23-3fc898006ca7>\u001b[0m in \u001b[0;36m<module>\u001b[0;34m\u001b[0m\n\u001b[0;32m----> 1\u001b[0;31m \u001b[0mmeta\u001b[0m\u001b[0;34m[\u001b[0m\u001b[0;34m'pb'\u001b[0m\u001b[0;34m]\u001b[0m\u001b[0;34m.\u001b[0m\u001b[0mloc\u001b[0m\u001b[0;34m[\u001b[0m\u001b[0mmeta\u001b[0m\u001b[0;34m[\u001b[0m\u001b[0;34m'pb'\u001b[0m\u001b[0;34m]\u001b[0m\u001b[0;34m[\u001b[0m\u001b[0;34m'Shape'\u001b[0m\u001b[0;34m]\u001b[0m\u001b[0;34m==\u001b[0m\u001b[0;34m'1'\u001b[0m\u001b[0;34m,\u001b[0m \u001b[0;34m'TRB'\u001b[0m\u001b[0;34m]\u001b[0m\u001b[0;34m\u001b[0m\u001b[0;34m\u001b[0m\u001b[0m\n\u001b[0m",
      "\u001b[0;31mKeyError\u001b[0m: 'pb'"
     ]
    }
   ],
   "source": [
    "meta['pbmc'].loc[meta['pbmc']['Shape']=='1', 'TRB']"
   ]
  },
  {
   "cell_type": "code",
   "execution_count": 22,
   "metadata": {},
   "outputs": [
    {
     "data": {
      "text/plain": [
       "10      CASSLRASGMGTDTQYF\n",
       "22         CASSWTGGSYEQYF\n",
       "23         CASSTDGQGNTIYF\n",
       "25         CASSFLAGTDTQYF\n",
       "29        CATSRDRGAAQPQHF\n",
       "30          CASSLGEGYEQYF\n",
       "31            CASSTGNEQYF\n",
       "32         CASSQGGGSEKLFF\n",
       "33         CASSLSLLYNEQFF\n",
       "36            CSAKGQGEAFF\n",
       "38        CASSLSSSGANVLTF\n",
       "39         CASSESTQSTEAFF\n",
       "40          CASSLTVSYEQYF\n",
       "41            CASSFSYEQYF\n",
       "42          CSVEERESTEAFF\n",
       "44          CASSYSHLETQYF\n",
       "46          CASSPPLYSEAFF\n",
       "47         CASSLMAGFGELFF\n",
       "48        CSARDYRGRRTEAFF\n",
       "52         CASSLLQVNTEAFF\n",
       "53          CSARDPNHQPQHF\n",
       "54       CASGWAAEPESDEQFF\n",
       "55        CASSFLSGGDTEAFF\n",
       "56           CAWRAQLYGYTF\n",
       "57         CASSLVTLNTEAFF\n",
       "59          CASSVGSQETQYF\n",
       "60          CASSPLADNEQFF\n",
       "61         CASSPGQENEKLFF\n",
       "62        CASSTSGGANYGYTF\n",
       "63       CASSTTGLVGYNEQFF\n",
       "              ...        \n",
       "1479       CSATTQRHYYEQYF\n",
       "1480       CASSYQAYNSPLHF\n",
       "1481      CASSDGGPQDEKLFF\n",
       "1482      CASSLRPSGANVLTF\n",
       "1483     CASSPERGAENTEAFF\n",
       "1484      CASSFSYDGAYEQYF\n",
       "1485     CSARDSLRPDSNTQYF\n",
       "1486      CASSSFSGSPYEQYF\n",
       "1487        CATSWTGGGGAFF\n",
       "1488     CASSSSGTGGQETQYF\n",
       "1489        CASSLTLNTEAFF\n",
       "1490        CSAGWGLPYEQYF\n",
       "1491        CASSLMQGEKLFF\n",
       "1492     CASSTAGQGNLKTQYF\n",
       "1493      CASSQGGTANEKLFF\n",
       "1494     CAISESKTGGDSPLHF\n",
       "1495     CASSQVGQGISYEQYF\n",
       "1496       CASSPGGVGQPQHF\n",
       "1497       CSALGPWGTDTQYF\n",
       "1498     CASSLRDTAYQETQYF\n",
       "1499    CASSAGTSGRGTYEQYF\n",
       "1500     CASSLDDGSSYNEQFF\n",
       "1501        CSARSGGDYEQYF\n",
       "1502    CASSPSLQGIGTDTQYF\n",
       "1503    CASSIFRLAGVGNEQFF\n",
       "1504       CASSLDGSVETQYF\n",
       "1505         CASSLKGSPLHF\n",
       "1506      CASSRSLRDNYGYTF\n",
       "1507      CASSEAPSMNTEAFF\n",
       "1508       CASSLVASGGELFF\n",
       "Name: TRB, Length: 1445, dtype: object"
      ]
     },
     "execution_count": 22,
     "metadata": {},
     "output_type": "execute_result"
    }
   ],
   "source": [
    "meta['csf'].loc[meta['csf']['Shape']=='1', 'TRB']"
   ]
  },
  {
   "cell_type": "code",
   "execution_count": null,
   "metadata": {},
   "outputs": [],
   "source": []
  }
 ],
 "metadata": {
  "kernelspec": {
   "display_name": "Python 3",
   "language": "python",
   "name": "python3"
  },
  "language_info": {
   "codemirror_mode": {
    "name": "ipython",
    "version": 3
   },
   "file_extension": ".py",
   "mimetype": "text/x-python",
   "name": "python",
   "nbconvert_exporter": "python",
   "pygments_lexer": "ipython3",
   "version": "3.6.10"
  },
  "toc": {
   "base_numbering": 1,
   "nav_menu": {},
   "number_sections": true,
   "sideBar": true,
   "skip_h1_title": false,
   "title_cell": "Table of Contents",
   "title_sidebar": "Contents",
   "toc_cell": true,
   "toc_position": {},
   "toc_section_display": true,
   "toc_window_display": false
  }
 },
 "nbformat": 4,
 "nbformat_minor": 4
}
