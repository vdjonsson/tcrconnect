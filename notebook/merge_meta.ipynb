{
 "cells": [
  {
   "cell_type": "markdown",
   "metadata": {
    "toc": true
   },
   "source": [
    "<h1>Table of Contents<span class=\"tocSkip\"></span></h1>\n",
    "<div class=\"toc\"><ul class=\"toc-item\"></ul></div>"
   ]
  },
  {
   "cell_type": "code",
   "execution_count": 1,
   "metadata": {},
   "outputs": [],
   "source": [
    "import os\n",
    "import glob\n",
    "import pandas as pd"
   ]
  },
  {
   "cell_type": "code",
   "execution_count": 2,
   "metadata": {},
   "outputs": [],
   "source": [
    "import re\n",
    "def read_and_extract(\n",
    "    files, \n",
    "    pattern,\n",
    "    **kwargs\n",
    "    ):\n",
    "    \"\"\"\n",
    "    Parameters:\n",
    "        files: List of paths to dataframes to read\n",
    "        pattern: Regex pattern with group for extracting cluster id.\n",
    "            \"Kmeans(\\d+).csv\"\n",
    "            \"ShapeCluster(\\d+)\"\n",
    "        kwargs: Arguments passed to :func:`pandas.read_csv`\n",
    "    Returns:\n",
    "        Dictionary mapping cluster ID to its dataframe\n",
    "    \"\"\"\n",
    "    files.sort()\n",
    "    clusters = [re.findall(pattern,f)[0] for f in files]\n",
    "    cluster2df = {c:pd.read_csv(f, **kwargs) for c, f in zip(clusters, files)}\n",
    "    return cluster2df"
   ]
  },
  {
   "cell_type": "code",
   "execution_count": 16,
   "metadata": {},
   "outputs": [],
   "source": [
    "indir = '/Users/racng/git/paper_upn109/data/tcr/'\n",
    "outdir = '/Users/racng/git/connectTCR/output/timeseries/'"
   ]
  },
  {
   "cell_type": "code",
   "execution_count": 4,
   "metadata": {},
   "outputs": [],
   "source": [
    "comps = ['csf', 'pbmc']\n",
    "\n",
    "# read kmeans and shape clusters dataframes\n",
    "shape_files = {c: glob.glob(indir+\"{}ShapeCluster*.csv\".format(c.upper()))\n",
    "    for c in comps}\n",
    "shapes = {c:read_and_extract(shape_files[c], \"ShapeCluster(\\d+).csv\") \n",
    "    for c in comps}\n",
    "\n",
    "kmeans_files = {c: glob.glob(indir+\"{}/Signal{}Kmeans*.csv\".format(c, c.upper()))\n",
    "    for c in comps}\n",
    "kmeans = {c:read_and_extract(kmeans_files[c], \"Kmeans(\\d+).csv\") \n",
    "    for c in comps}"
   ]
  },
  {
   "cell_type": "code",
   "execution_count": 5,
   "metadata": {},
   "outputs": [],
   "source": [
    "trb2shape = {}\n",
    "for c in comps:\n",
    "    tcr_map = {}\n",
    "    for i, df in shapes[c].items():\n",
    "        for trb in df['TRB'].values:\n",
    "            if trb in tcr_map:\n",
    "                raise ValueError('TRB repeated')\n",
    "            tcr_map[trb] = i\n",
    "    trb2shape[c] = tcr_map"
   ]
  },
  {
   "cell_type": "code",
   "execution_count": 6,
   "metadata": {},
   "outputs": [],
   "source": [
    "trb2kmeans = {}\n",
    "for c in comps:\n",
    "    tcr_map = {}\n",
    "    for i, df in kmeans[c].items():\n",
    "        for trb in df['TRB'].values:\n",
    "            if trb in tcr_map:\n",
    "                raise ValueError('TRB repeated')\n",
    "            tcr_map[trb] = i.lstrip(\"0\") # remove leading zero\n",
    "    trb2kmeans[c] = tcr_map"
   ]
  },
  {
   "cell_type": "code",
   "execution_count": 7,
   "metadata": {},
   "outputs": [],
   "source": [
    "signal = {c:pd.read_csv(indir+'{}(Signal).csv'.format(c.upper()))['TRB'] for c in comps}"
   ]
  },
  {
   "cell_type": "code",
   "execution_count": 8,
   "metadata": {},
   "outputs": [],
   "source": [
    "noise = {c:pd.read_csv(indir+'{}(Noise).csv'.format(c.upper()))['TRB'] for c in comps}"
   ]
  },
  {
   "cell_type": "code",
   "execution_count": 17,
   "metadata": {},
   "outputs": [],
   "source": [
    "meta = {}\n",
    "savename = {'csf':'csf', 'pbmc':'pb'}\n",
    "for c in comps:\n",
    "    meta[c] = pd.DataFrame({\n",
    "        'TRB': signal[c].append(noise[c]).values,\n",
    "        'Signal/Noise': ['Signal']*len(signal[c])+['Noise']*len(noise[c])\n",
    "    })\n",
    "    meta[c]['Kmeans'] = meta[c]['TRB'].map(trb2kmeans[c])\n",
    "    meta[c]['Shape'] = meta[c]['TRB'].map(trb2shape[c])\n",
    "    meta[c].to_csv(outdir+'{}.meta.csv'.format(savename[c]),index=False)"
   ]
  },
  {
   "cell_type": "code",
   "execution_count": 10,
   "metadata": {},
   "outputs": [
    {
     "name": "stdout",
     "output_type": "stream",
     "text": [
      "19043\n",
      "1509\n",
      "1509\n",
      "1509\n",
      "1048575\n",
      "152\n",
      "152\n",
      "152\n"
     ]
    }
   ],
   "source": [
    "for i, df in meta.items():\n",
    "    print(len(df))\n",
    "    print(len(df.dropna()))\n",
    "    print(len(signal[i]))\n",
    "    print((df.dropna()['Signal/Noise']=='Signal').sum())"
   ]
  },
  {
   "cell_type": "code",
   "execution_count": 30,
   "metadata": {},
   "outputs": [],
   "source": [
    "overlap = set(meta['pbmc'].loc[meta['pbmc']['Shape']=='3', 'TRB']).intersection(\n",
    "meta['csf'].loc[meta['csf']['Shape']=='1', 'TRB'])"
   ]
  },
  {
   "cell_type": "code",
   "execution_count": 35,
   "metadata": {},
   "outputs": [
    {
     "data": {
      "text/plain": [
       "0    15\n",
       "dtype: object"
      ]
     },
     "execution_count": 35,
     "metadata": {},
     "output_type": "execute_result"
    }
   ],
   "source": [
    "meta['csf']['Kmeans'].mode()"
   ]
  },
  {
   "cell_type": "code",
   "execution_count": null,
   "metadata": {},
   "outputs": [],
   "source": []
  }
 ],
 "metadata": {
  "kernelspec": {
   "display_name": "Python 3",
   "language": "python",
   "name": "python3"
  },
  "language_info": {
   "codemirror_mode": {
    "name": "ipython",
    "version": 3
   },
   "file_extension": ".py",
   "mimetype": "text/x-python",
   "name": "python",
   "nbconvert_exporter": "python",
   "pygments_lexer": "ipython3",
   "version": "3.6.10"
  },
  "toc": {
   "base_numbering": 1,
   "nav_menu": {},
   "number_sections": true,
   "sideBar": true,
   "skip_h1_title": false,
   "title_cell": "Table of Contents",
   "title_sidebar": "Contents",
   "toc_cell": true,
   "toc_position": {},
   "toc_section_display": true,
   "toc_window_display": false
  }
 },
 "nbformat": 4,
 "nbformat_minor": 4
}
