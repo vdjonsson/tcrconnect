{
 "cells": [
  {
   "cell_type": "markdown",
   "metadata": {
    "toc": true
   },
   "source": [
    "<h1>Table of Contents<span class=\"tocSkip\"></span></h1>\n",
    "<div class=\"toc\"><ul class=\"toc-item\"></ul></div>"
   ]
  },
  {
   "cell_type": "code",
   "execution_count": 1,
   "metadata": {},
   "outputs": [],
   "source": [
    "import os\n",
    "import pandas as pd"
   ]
  },
  {
   "cell_type": "code",
   "execution_count": 2,
   "metadata": {},
   "outputs": [],
   "source": [
    "import sys\n",
    "sys.path.append('../../connectTCR')"
   ]
  },
  {
   "cell_type": "code",
   "execution_count": 3,
   "metadata": {},
   "outputs": [],
   "source": [
    "from connectTCR.utils import import_gliph_output, normalize, get_dynamic_classes, get_trb_groups\n",
    "from connectTCR.mapping import map_signal_noise, map_shape_cluster, map_overlap\n",
    "from connectTCR.connection import flux\n",
    "from connectTCR.plotting import set_figure_params, barplot\n",
    "from connectTCR.pipeline import plot_connection"
   ]
  },
  {
   "cell_type": "code",
   "execution_count": 4,
   "metadata": {},
   "outputs": [],
   "source": [
    "gliphdir = '../data/gliph'\n",
    "dataset = 'blood-signal-csf-signal-tumor'\n",
    "dataset = 'blood-csf-tumor'"
   ]
  },
  {
   "cell_type": "code",
   "execution_count": 5,
   "metadata": {},
   "outputs": [],
   "source": [
    "outdir = '../output/{}/'.format(dataset)\n",
    "if not os.path.isdir(outdir):\n",
    "    os.system('mkdir -p '+outdir)\n"
   ]
  },
  {
   "cell_type": "code",
   "execution_count": 6,
   "metadata": {},
   "outputs": [],
   "source": [
    "df = import_gliph_output(gliphdir, dataset, suffix='_general')\n",
    "# Rename samples\n",
    "names = {'blood':'PB', 'csf':'CSF', 'PBT103-1':'Pre', 'PBT120':'Post'}\n",
    "df['Sample'] = df['Sample'].map(names)"
   ]
  },
  {
   "cell_type": "code",
   "execution_count": 7,
   "metadata": {},
   "outputs": [],
   "source": [
    "# map signal vs noise\n",
    "name = {'CSF':'CSF', 'PB':'PBMC'}\n",
    "signaldir = '../data/tcr_dynamics/'\n",
    "sample2signal = {comp:pd.read_csv(signaldir+'{c}(Signal).csv'.format(c=name[comp]), index_col=0).reset_index() \\\n",
    "    for comp in name }\n",
    "df = map_signal_noise(df, sample2signal, 'Sample', 'TcRb', 'index')"
   ]
  },
  {
   "cell_type": "code",
   "execution_count": 8,
   "metadata": {},
   "outputs": [],
   "source": [
    "# map shape cluster\n",
    "tcrdir = '../data/tcr_dynamics/'\n",
    "csfshape = get_dynamic_classes(tcrdir, 'SignalCSFKmeans', 'CSFShapeKmeansMap')\n",
    "bloodshape = get_dynamic_classes(tcrdir, 'SignalPBMCKmeans', 'PBMCShapeKmeansMap')\n",
    "sample2shapemap = {'CSF:Signal':csfshape, 'PB:Signal':bloodshape}\n",
    "df = map_shape_cluster(df, sample2shapemap, 'Sample:Signal/Noise', 'TcRb')\n",
    "df['Sample:ShapeCluster'] = df['Sample:Signal/Noise:ShapeCluster'].str.replace( \\\n",
    "    ':Signal', '', regex=True)"
   ]
  },
  {
   "cell_type": "code",
   "execution_count": null,
   "metadata": {},
   "outputs": [],
   "source": []
  },
  {
   "cell_type": "code",
   "execution_count": 11,
   "metadata": {},
   "outputs": [],
   "source": [
    "df1 = get_trb_groups(df, 'CASSELFGSEDIGIEDTF', \n",
    "               cols=['index', 'pattern', 'type', 'TcRb', 'TcRa', 'Sample', 'Freq', 'Sample:ShapeCluster'],\n",
    "               save=True,\n",
    "               savedir=outdir,\n",
    "              )"
   ]
  },
  {
   "cell_type": "code",
   "execution_count": 12,
   "metadata": {},
   "outputs": [],
   "source": [
    "df2 = get_trb_groups(df, 'CSARLAGDYNEQFF', \n",
    "               cols=['index', 'pattern', 'type', 'TcRb', 'TcRa', 'Sample', 'Freq', 'Sample:ShapeCluster'],\n",
    "               save=True,\n",
    "               savedir=outdir,\n",
    "              )"
   ]
  },
  {
   "cell_type": "code",
   "execution_count": 13,
   "metadata": {},
   "outputs": [
    {
     "data": {
      "text/plain": [
       "array(['single'], dtype=object)"
      ]
     },
     "execution_count": 13,
     "metadata": {},
     "output_type": "execute_result"
    }
   ],
   "source": [
    "df1.pattern.unique()"
   ]
  },
  {
   "cell_type": "code",
   "execution_count": 14,
   "metadata": {},
   "outputs": [
    {
     "data": {
      "text/plain": [
       "array(['RLAG%YNE', 'R%AGDYNE', '%LAGDYNE', 'RLAGD%NE', 'RLAGDY%E'],\n",
       "      dtype=object)"
      ]
     },
     "execution_count": 14,
     "metadata": {},
     "output_type": "execute_result"
    }
   ],
   "source": [
    "df2.pattern.unique()"
   ]
  },
  {
   "cell_type": "code",
   "execution_count": null,
   "metadata": {},
   "outputs": [],
   "source": []
  }
 ],
 "metadata": {
  "kernelspec": {
   "display_name": "Python 3",
   "language": "python",
   "name": "python3"
  },
  "language_info": {
   "codemirror_mode": {
    "name": "ipython",
    "version": 3
   },
   "file_extension": ".py",
   "mimetype": "text/x-python",
   "name": "python",
   "nbconvert_exporter": "python",
   "pygments_lexer": "ipython3",
   "version": "3.6.10"
  },
  "toc": {
   "base_numbering": 1,
   "nav_menu": {},
   "number_sections": true,
   "sideBar": true,
   "skip_h1_title": false,
   "title_cell": "Table of Contents",
   "title_sidebar": "Contents",
   "toc_cell": true,
   "toc_position": {},
   "toc_section_display": true,
   "toc_window_display": false
  }
 },
 "nbformat": 4,
 "nbformat_minor": 4
}
