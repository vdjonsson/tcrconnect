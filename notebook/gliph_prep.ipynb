{
 "cells": [
  {
   "cell_type": "markdown",
   "metadata": {
    "toc": true
   },
   "source": [
    "<h1>Table of Contents<span class=\"tocSkip\"></span></h1>\n",
    "<div class=\"toc\"><ul class=\"toc-item\"></ul></div>"
   ]
  },
  {
   "cell_type": "code",
   "execution_count": 1,
   "metadata": {},
   "outputs": [],
   "source": [
    "import sys\n",
    "sys.path.append('../../connectTCR')"
   ]
  },
  {
   "cell_type": "code",
   "execution_count": 2,
   "metadata": {},
   "outputs": [],
   "source": [
    "from connectTCR.signal import *"
   ]
  },
  {
   "cell_type": "code",
   "execution_count": 3,
   "metadata": {},
   "outputs": [],
   "source": [
    "from connectTCR.utils import *"
   ]
  },
  {
   "cell_type": "code",
   "execution_count": 4,
   "metadata": {},
   "outputs": [],
   "source": [
    "from connectTCR.gliph import *"
   ]
  },
  {
   "cell_type": "code",
   "execution_count": 5,
   "metadata": {},
   "outputs": [
    {
     "data": {
      "text/plain": [
       "['C09D2',\n",
       " 'C10D1',\n",
       " 'C11D1',\n",
       " 'C12D1',\n",
       " 'C13D1',\n",
       " 'C14D1',\n",
       " 'C17D1',\n",
       " 'C18D1',\n",
       " 'C19D1',\n",
       " 'C20D1',\n",
       " 'C21D1']"
      ]
     },
     "execution_count": 5,
     "metadata": {},
     "output_type": "execute_result"
    }
   ],
   "source": [
    "t_csf = []\n",
    "with open(\"../output/timeseries/csf.columns\", \"r\") as f:\n",
    "    for l in f:\n",
    "        t_csf.append(l.strip())\n",
    "t_csf"
   ]
  },
  {
   "cell_type": "code",
   "execution_count": 6,
   "metadata": {},
   "outputs": [
    {
     "data": {
      "text/plain": [
       "['C01D0',\n",
       " 'C02D2',\n",
       " 'C03D2',\n",
       " 'C04D2',\n",
       " 'C05D2',\n",
       " 'C06D2',\n",
       " 'C07D2',\n",
       " 'C08D1',\n",
       " 'C09D1',\n",
       " 'C10D1',\n",
       " 'C11D1',\n",
       " 'C12D1',\n",
       " 'C13D1',\n",
       " 'C14D1',\n",
       " 'C15D1',\n",
       " 'C16D1',\n",
       " 'C21D1']"
      ]
     },
     "execution_count": 6,
     "metadata": {},
     "output_type": "execute_result"
    }
   ],
   "source": [
    "t_pb = []\n",
    "with open(\"../output/timeseries/pb.columns\", \"r\") as f:\n",
    "    for l in f:\n",
    "        t_pb.append(l.strip())\n",
    "t_pb"
   ]
  },
  {
   "cell_type": "code",
   "execution_count": 7,
   "metadata": {},
   "outputs": [
    {
     "data": {
      "text/plain": [
       "16691"
      ]
     },
     "execution_count": 7,
     "metadata": {},
     "output_type": "execute_result"
    }
   ],
   "source": [
    "i_csf = []\n",
    "with open(\"../output/timeseries/csf.index\", \"r\") as f:\n",
    "    for l in f:\n",
    "        i_csf.append(l.strip())\n",
    "len(i_csf)"
   ]
  },
  {
   "cell_type": "code",
   "execution_count": 8,
   "metadata": {},
   "outputs": [
    {
     "data": {
      "text/plain": [
       "1017194"
      ]
     },
     "execution_count": 8,
     "metadata": {},
     "output_type": "execute_result"
    }
   ],
   "source": [
    "i_pb = []\n",
    "with open(\"../output/timeseries/pb.index\", \"r\") as f:\n",
    "    for l in f:\n",
    "        i_pb.append(l.strip())\n",
    "len(i_pb)"
   ]
  },
  {
   "cell_type": "code",
   "execution_count": 9,
   "metadata": {},
   "outputs": [],
   "source": [
    "df_csf = process_adaptive_bioidentity(\n",
    "    \"../data/adaptive/CombinedRearrangements_bioidentity_csf_raw.tsv\", \n",
    "    'csf', t_csf, exclude=['109_C16D1_CSFpellet_cDNA'])"
   ]
  },
  {
   "cell_type": "code",
   "execution_count": 10,
   "metadata": {},
   "outputs": [],
   "source": [
    "df_pb = process_adaptive_bioidentity(\n",
    "    \"../data/adaptive/CombinedRearrangements_bioidentity_blood_raw.tsv\", \n",
    "    'pb', t_pb, exclude=['109_C16D1_Blood-CD3_cDNA'])"
   ]
  },
  {
   "cell_type": "code",
   "execution_count": 11,
   "metadata": {},
   "outputs": [],
   "source": [
    "df_tumor = read_gliph_input(\"../data/gliph/tumor/\", \"sample_name\")\n",
    "# normalize counts per sample\n",
    "df_tumor = normalize_gliph_input(df_tumor)"
   ]
  },
  {
   "cell_type": "code",
   "execution_count": 12,
   "metadata": {},
   "outputs": [],
   "source": [
    "df_pb = df_pb.loc[df_pb['TcRb'].isin(i_pb), :]"
   ]
  },
  {
   "cell_type": "code",
   "execution_count": 13,
   "metadata": {},
   "outputs": [],
   "source": [
    "df_csf = df_csf.loc[df_csf['TcRb'].isin(i_csf), :]"
   ]
  },
  {
   "cell_type": "code",
   "execution_count": 14,
   "metadata": {},
   "outputs": [
    {
     "data": {
      "text/plain": [
       "(16691, 1017194, 312)"
      ]
     },
     "execution_count": 14,
     "metadata": {},
     "output_type": "execute_result"
    }
   ],
   "source": [
    "df_csf['TcRb'].nunique(), df_pb['TcRb'].nunique(), df_tumor['TcRb'].nunique()"
   ]
  },
  {
   "cell_type": "code",
   "execution_count": 15,
   "metadata": {},
   "outputs": [],
   "source": [
    "cols = ['TcRb', 'V', 'J', 'TcRa', 'Sample', 'Freq']"
   ]
  },
  {
   "cell_type": "code",
   "execution_count": 16,
   "metadata": {},
   "outputs": [],
   "source": [
    "combined = pd.concat([df_pb[cols], df_csf[cols], df_tumor[cols]])"
   ]
  },
  {
   "cell_type": "code",
   "execution_count": 17,
   "metadata": {},
   "outputs": [
    {
     "data": {
      "text/html": [
       "<div>\n",
       "<style scoped>\n",
       "    .dataframe tbody tr th:only-of-type {\n",
       "        vertical-align: middle;\n",
       "    }\n",
       "\n",
       "    .dataframe tbody tr th {\n",
       "        vertical-align: top;\n",
       "    }\n",
       "\n",
       "    .dataframe thead th {\n",
       "        text-align: right;\n",
       "    }\n",
       "</style>\n",
       "<table border=\"1\" class=\"dataframe\">\n",
       "  <thead>\n",
       "    <tr style=\"text-align: right;\">\n",
       "      <th></th>\n",
       "      <th>TcRb</th>\n",
       "      <th>V</th>\n",
       "      <th>J</th>\n",
       "      <th>TcRa</th>\n",
       "      <th>Sample</th>\n",
       "      <th>Freq</th>\n",
       "    </tr>\n",
       "  </thead>\n",
       "  <tbody>\n",
       "    <tr>\n",
       "      <th>0</th>\n",
       "      <td>CSARLAGDYNEQFF</td>\n",
       "      <td>TRBV20</td>\n",
       "      <td>TRBJ2-1</td>\n",
       "      <td>NaN</td>\n",
       "      <td>pb</td>\n",
       "      <td>0.083071</td>\n",
       "    </tr>\n",
       "    <tr>\n",
       "      <th>1</th>\n",
       "      <td>CASSQDQGGVSSPLHF</td>\n",
       "      <td>TRBV4-2</td>\n",
       "      <td>TRBJ1-6</td>\n",
       "      <td>NaN</td>\n",
       "      <td>pb</td>\n",
       "      <td>0.054578</td>\n",
       "    </tr>\n",
       "    <tr>\n",
       "      <th>2</th>\n",
       "      <td>CSVEGQGVYEQYF</td>\n",
       "      <td>TRBV29-1</td>\n",
       "      <td>TRBJ2-7</td>\n",
       "      <td>NaN</td>\n",
       "      <td>pb</td>\n",
       "      <td>0.039768</td>\n",
       "    </tr>\n",
       "    <tr>\n",
       "      <th>3</th>\n",
       "      <td>CASSFRTGRNGYTF</td>\n",
       "      <td>TRBV5-6</td>\n",
       "      <td>TRBJ1-2</td>\n",
       "      <td>NaN</td>\n",
       "      <td>pb</td>\n",
       "      <td>0.049003</td>\n",
       "    </tr>\n",
       "    <tr>\n",
       "      <th>4</th>\n",
       "      <td>CASSPPPISTGKRFDEQFF</td>\n",
       "      <td>TRBV7-9</td>\n",
       "      <td>TRBJ2-1</td>\n",
       "      <td>NaN</td>\n",
       "      <td>pb</td>\n",
       "      <td>0.044016</td>\n",
       "    </tr>\n",
       "  </tbody>\n",
       "</table>\n",
       "</div>"
      ],
      "text/plain": [
       "                  TcRb         V        J TcRa Sample      Freq\n",
       "0       CSARLAGDYNEQFF    TRBV20  TRBJ2-1  NaN     pb  0.083071\n",
       "1     CASSQDQGGVSSPLHF   TRBV4-2  TRBJ1-6  NaN     pb  0.054578\n",
       "2        CSVEGQGVYEQYF  TRBV29-1  TRBJ2-7  NaN     pb  0.039768\n",
       "3       CASSFRTGRNGYTF   TRBV5-6  TRBJ1-2  NaN     pb  0.049003\n",
       "4  CASSPPPISTGKRFDEQFF   TRBV7-9  TRBJ2-1  NaN     pb  0.044016"
      ]
     },
     "execution_count": 17,
     "metadata": {},
     "output_type": "execute_result"
    }
   ],
   "source": [
    "combined.head()"
   ]
  },
  {
   "cell_type": "code",
   "execution_count": 18,
   "metadata": {},
   "outputs": [
    {
     "name": "stdout",
     "output_type": "stream",
     "text": [
      "mkdir: ../data/gliph/pb_csf_tumor/: File exists\r\n"
     ]
    }
   ],
   "source": [
    "!mkdir ../data/gliph/pb_csf_tumor/"
   ]
  },
  {
   "cell_type": "code",
   "execution_count": 19,
   "metadata": {},
   "outputs": [],
   "source": [
    "write_gliph_input(combined, \"../data/gliph/pb_csf_tumor/\", 'pb_csf_tumor')"
   ]
  },
  {
   "cell_type": "code",
   "execution_count": 20,
   "metadata": {},
   "outputs": [
    {
     "data": {
      "text/plain": [
       "(1184230, 6)"
      ]
     },
     "execution_count": 20,
     "metadata": {},
     "output_type": "execute_result"
    }
   ],
   "source": [
    "combined.shape"
   ]
  },
  {
   "cell_type": "code",
   "execution_count": 23,
   "metadata": {},
   "outputs": [],
   "source": [
    "groupby = ['TcRb', 'V', 'J', 'Sample']\n",
    "df=df_tumor\n",
    "top_tcr = df.loc[df.groupby(groupby).Freq.agg('idxmax')]\n",
    "tra=top_tcr.set_index(groupby)['TcRa'].to_dict()"
   ]
  },
  {
   "cell_type": "code",
   "execution_count": 31,
   "metadata": {},
   "outputs": [],
   "source": [
    "import collections\n",
    "bioid = ['TcRb', 'V', 'J', 'TcRa', 'Sample']\n",
    "tcrs = collections. defaultdict(int)\n",
    "\n",
    "for i, row in df_tumor.iterrows():\n",
    "    key = [row[x]for x in bioid]\n",
    "    if row['TcRa'] == '':\n",
    "        trb = tuple([row[x]for x in groupby])\n",
    "        key[3] = tra[trb] # impute with most frequent tra\n",
    "        tcrs[tuple(key)] += row['Freq']\n",
    "    else:\n",
    "        tcrs[tuple(key)] += row['Freq']"
   ]
  },
  {
   "cell_type": "code",
   "execution_count": 36,
   "metadata": {},
   "outputs": [],
   "source": [
    "mux = pd.MultiIndex.from_tuples(tcrs.keys())\n",
    "df = pd.DataFrame(list(tcrs.values()), index=mux).reset_index()\n",
    "df.columns = bioid +['Freq']"
   ]
  },
  {
   "cell_type": "code",
   "execution_count": 39,
   "metadata": {},
   "outputs": [
    {
     "name": "stdout",
     "output_type": "stream",
     "text": [
      "(345, 6)\n"
     ]
    }
   ],
   "source": [
    "print(df.shape)"
   ]
  },
  {
   "cell_type": "code",
   "execution_count": 38,
   "metadata": {},
   "outputs": [
    {
     "data": {
      "text/html": [
       "<div>\n",
       "<style scoped>\n",
       "    .dataframe tbody tr th:only-of-type {\n",
       "        vertical-align: middle;\n",
       "    }\n",
       "\n",
       "    .dataframe tbody tr th {\n",
       "        vertical-align: top;\n",
       "    }\n",
       "\n",
       "    .dataframe thead th {\n",
       "        text-align: right;\n",
       "    }\n",
       "</style>\n",
       "<table border=\"1\" class=\"dataframe\">\n",
       "  <thead>\n",
       "    <tr style=\"text-align: right;\">\n",
       "      <th></th>\n",
       "      <th>TcRb</th>\n",
       "      <th>V</th>\n",
       "      <th>J</th>\n",
       "      <th>TcRa</th>\n",
       "      <th>Sample</th>\n",
       "      <th>Freq</th>\n",
       "    </tr>\n",
       "  </thead>\n",
       "  <tbody>\n",
       "    <tr>\n",
       "      <th>0</th>\n",
       "      <td>CAGSIGASGYNEQFF</td>\n",
       "      <td>TRBV2</td>\n",
       "      <td>TRBJ2-1</td>\n",
       "      <td>CILRFYNQGGKLIF</td>\n",
       "      <td>PBT103-1</td>\n",
       "      <td>0.001083</td>\n",
       "    </tr>\n",
       "    <tr>\n",
       "      <th>1</th>\n",
       "      <td>CAIPREGLYNEQFF</td>\n",
       "      <td>TRBV5-8</td>\n",
       "      <td>TRBJ2-1</td>\n",
       "      <td></td>\n",
       "      <td>PBT103-1</td>\n",
       "      <td>0.001083</td>\n",
       "    </tr>\n",
       "    <tr>\n",
       "      <th>2</th>\n",
       "      <td>CAIRAGIMNTEAFF</td>\n",
       "      <td>TRBV10-3</td>\n",
       "      <td>TRBJ1-1</td>\n",
       "      <td></td>\n",
       "      <td>PBT103-1</td>\n",
       "      <td>0.001083</td>\n",
       "    </tr>\n",
       "    <tr>\n",
       "      <th>3</th>\n",
       "      <td>CAISDLGQGAEAFF</td>\n",
       "      <td>TRBV10-3</td>\n",
       "      <td>TRBJ1-1</td>\n",
       "      <td>CAGDTGNQFYF</td>\n",
       "      <td>PBT103-1</td>\n",
       "      <td>0.001083</td>\n",
       "    </tr>\n",
       "    <tr>\n",
       "      <th>4</th>\n",
       "      <td>CAISGVFRDRVTQETQYF</td>\n",
       "      <td>TRBV10-3</td>\n",
       "      <td>TRBJ2-5</td>\n",
       "      <td>CAASKAISGSNFGNEKLTF</td>\n",
       "      <td>PBT103-1</td>\n",
       "      <td>0.001083</td>\n",
       "    </tr>\n",
       "  </tbody>\n",
       "</table>\n",
       "</div>"
      ],
      "text/plain": [
       "                 TcRb         V        J                 TcRa    Sample  \\\n",
       "0     CAGSIGASGYNEQFF     TRBV2  TRBJ2-1       CILRFYNQGGKLIF  PBT103-1   \n",
       "1      CAIPREGLYNEQFF   TRBV5-8  TRBJ2-1                       PBT103-1   \n",
       "2      CAIRAGIMNTEAFF  TRBV10-3  TRBJ1-1                       PBT103-1   \n",
       "3      CAISDLGQGAEAFF  TRBV10-3  TRBJ1-1          CAGDTGNQFYF  PBT103-1   \n",
       "4  CAISGVFRDRVTQETQYF  TRBV10-3  TRBJ2-5  CAASKAISGSNFGNEKLTF  PBT103-1   \n",
       "\n",
       "       Freq  \n",
       "0  0.001083  \n",
       "1  0.001083  \n",
       "2  0.001083  \n",
       "3  0.001083  \n",
       "4  0.001083  "
      ]
     },
     "execution_count": 38,
     "metadata": {},
     "output_type": "execute_result"
    }
   ],
   "source": [
    "df.head()"
   ]
  },
  {
   "cell_type": "code",
   "execution_count": 43,
   "metadata": {},
   "outputs": [
    {
     "data": {
      "text/plain": [
       "-19"
      ]
     },
     "execution_count": 43,
     "metadata": {},
     "output_type": "execute_result"
    }
   ],
   "source": [
    "df.shape[0] - df_tumor.shape[0]"
   ]
  },
  {
   "cell_type": "code",
   "execution_count": 40,
   "metadata": {},
   "outputs": [],
   "source": [
    "combined_new = pd.concat([df_pb[cols], df_csf[cols], df[cols]])"
   ]
  },
  {
   "cell_type": "code",
   "execution_count": 44,
   "metadata": {},
   "outputs": [
    {
     "data": {
      "text/plain": [
       "(1184211, 6)"
      ]
     },
     "execution_count": 44,
     "metadata": {},
     "output_type": "execute_result"
    }
   ],
   "source": [
    "combined_new.shape"
   ]
  },
  {
   "cell_type": "code",
   "execution_count": 45,
   "metadata": {},
   "outputs": [
    {
     "data": {
      "text/html": [
       "<div>\n",
       "<style scoped>\n",
       "    .dataframe tbody tr th:only-of-type {\n",
       "        vertical-align: middle;\n",
       "    }\n",
       "\n",
       "    .dataframe tbody tr th {\n",
       "        vertical-align: top;\n",
       "    }\n",
       "\n",
       "    .dataframe thead th {\n",
       "        text-align: right;\n",
       "    }\n",
       "</style>\n",
       "<table border=\"1\" class=\"dataframe\">\n",
       "  <thead>\n",
       "    <tr style=\"text-align: right;\">\n",
       "      <th></th>\n",
       "      <th>TcRb</th>\n",
       "      <th>V</th>\n",
       "      <th>J</th>\n",
       "      <th>TcRa</th>\n",
       "      <th>Sample</th>\n",
       "      <th>Freq</th>\n",
       "    </tr>\n",
       "  </thead>\n",
       "  <tbody>\n",
       "    <tr>\n",
       "      <th>0</th>\n",
       "      <td>CSARLAGDYNEQFF</td>\n",
       "      <td>TRBV20</td>\n",
       "      <td>TRBJ2-1</td>\n",
       "      <td>NaN</td>\n",
       "      <td>pb</td>\n",
       "      <td>0.083071</td>\n",
       "    </tr>\n",
       "    <tr>\n",
       "      <th>1</th>\n",
       "      <td>CASSQDQGGVSSPLHF</td>\n",
       "      <td>TRBV4-2</td>\n",
       "      <td>TRBJ1-6</td>\n",
       "      <td>NaN</td>\n",
       "      <td>pb</td>\n",
       "      <td>0.054578</td>\n",
       "    </tr>\n",
       "    <tr>\n",
       "      <th>2</th>\n",
       "      <td>CSVEGQGVYEQYF</td>\n",
       "      <td>TRBV29-1</td>\n",
       "      <td>TRBJ2-7</td>\n",
       "      <td>NaN</td>\n",
       "      <td>pb</td>\n",
       "      <td>0.039768</td>\n",
       "    </tr>\n",
       "    <tr>\n",
       "      <th>3</th>\n",
       "      <td>CASSFRTGRNGYTF</td>\n",
       "      <td>TRBV5-6</td>\n",
       "      <td>TRBJ1-2</td>\n",
       "      <td>NaN</td>\n",
       "      <td>pb</td>\n",
       "      <td>0.049003</td>\n",
       "    </tr>\n",
       "    <tr>\n",
       "      <th>4</th>\n",
       "      <td>CASSPPPISTGKRFDEQFF</td>\n",
       "      <td>TRBV7-9</td>\n",
       "      <td>TRBJ2-1</td>\n",
       "      <td>NaN</td>\n",
       "      <td>pb</td>\n",
       "      <td>0.044016</td>\n",
       "    </tr>\n",
       "  </tbody>\n",
       "</table>\n",
       "</div>"
      ],
      "text/plain": [
       "                  TcRb         V        J TcRa Sample      Freq\n",
       "0       CSARLAGDYNEQFF    TRBV20  TRBJ2-1  NaN     pb  0.083071\n",
       "1     CASSQDQGGVSSPLHF   TRBV4-2  TRBJ1-6  NaN     pb  0.054578\n",
       "2        CSVEGQGVYEQYF  TRBV29-1  TRBJ2-7  NaN     pb  0.039768\n",
       "3       CASSFRTGRNGYTF   TRBV5-6  TRBJ1-2  NaN     pb  0.049003\n",
       "4  CASSPPPISTGKRFDEQFF   TRBV7-9  TRBJ2-1  NaN     pb  0.044016"
      ]
     },
     "execution_count": 45,
     "metadata": {},
     "output_type": "execute_result"
    }
   ],
   "source": [
    "combined_new.head()"
   ]
  },
  {
   "cell_type": "code",
   "execution_count": 48,
   "metadata": {},
   "outputs": [],
   "source": [
    "! mkdir ../data/gliph/pb_csf_tumor_imputed"
   ]
  },
  {
   "cell_type": "code",
   "execution_count": 49,
   "metadata": {},
   "outputs": [],
   "source": [
    "write_gliph_input(combined_new, \"../data/gliph/pb_csf_tumor_imputed/\", 'pb_csf_tumor_imputed')"
   ]
  },
  {
   "cell_type": "code",
   "execution_count": 50,
   "metadata": {},
   "outputs": [
    {
     "name": "stdout",
     "output_type": "stream",
     "text": [
      "mkdir: ../data/gliph/tumor_imputed: File exists\r\n"
     ]
    }
   ],
   "source": [
    "! mkdir ../data/gliph/tumor_imputed"
   ]
  },
  {
   "cell_type": "code",
   "execution_count": 51,
   "metadata": {},
   "outputs": [],
   "source": [
    "write_gliph_input(df, \"../data/gliph/tumor_imputed/\", 'tumor_imputed')"
   ]
  },
  {
   "cell_type": "code",
   "execution_count": 53,
   "metadata": {},
   "outputs": [
    {
     "data": {
      "text/plain": [
       "(345, 6)"
      ]
     },
     "execution_count": 53,
     "metadata": {},
     "output_type": "execute_result"
    }
   ],
   "source": [
    "df.shape"
   ]
  },
  {
   "cell_type": "code",
   "execution_count": 54,
   "metadata": {},
   "outputs": [
    {
     "data": {
      "text/plain": [
       "Sample\n",
       "PBT103-1    1.0\n",
       "PBT120      1.0\n",
       "Name: Freq, dtype: float64"
      ]
     },
     "execution_count": 54,
     "metadata": {},
     "output_type": "execute_result"
    }
   ],
   "source": [
    "df.groupby('Sample')['Freq'].sum()"
   ]
  },
  {
   "cell_type": "code",
   "execution_count": null,
   "metadata": {},
   "outputs": [],
   "source": []
  }
 ],
 "metadata": {
  "kernelspec": {
   "display_name": "Python 3",
   "language": "python",
   "name": "python3"
  },
  "language_info": {
   "codemirror_mode": {
    "name": "ipython",
    "version": 3
   },
   "file_extension": ".py",
   "mimetype": "text/x-python",
   "name": "python",
   "nbconvert_exporter": "python",
   "pygments_lexer": "ipython3",
   "version": "3.6.10"
  },
  "toc": {
   "base_numbering": 1,
   "nav_menu": {},
   "number_sections": true,
   "sideBar": true,
   "skip_h1_title": false,
   "title_cell": "Table of Contents",
   "title_sidebar": "Contents",
   "toc_cell": true,
   "toc_position": {},
   "toc_section_display": true,
   "toc_window_display": false
  }
 },
 "nbformat": 4,
 "nbformat_minor": 4
}
